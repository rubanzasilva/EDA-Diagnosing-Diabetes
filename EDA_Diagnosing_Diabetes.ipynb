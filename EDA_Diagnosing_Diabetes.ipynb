{
  "cells": [
    {
      "cell_type": "markdown",
      "metadata": {
        "id": "view-in-github",
        "colab_type": "text"
      },
      "source": [
        "<a href=\"https://colab.research.google.com/github/rubanzasilva/EDA-Diagnosing-Diabetes/blob/dev/EDA_Diagnosing_Diabetes.ipynb\" target=\"_parent\"><img src=\"https://colab.research.google.com/assets/colab-badge.svg\" alt=\"Open In Colab\"/></a>"
      ]
    },
    {
      "cell_type": "markdown",
      "id": "f4c71b09",
      "metadata": {
        "id": "f4c71b09"
      },
      "source": [
        "# EDA: Diagnosing Diabetes"
      ]
    },
    {
      "cell_type": "markdown",
      "id": "7cf00067",
      "metadata": {
        "id": "7cf00067"
      },
      "source": [
        "In this project, you'll imagine you are a data scientist interested in exploring data that looks at how certain diagnostic factors affect the diabetes outcome of women patients.\n",
        "\n",
        "You will use your EDA skills to help inspect, clean, and validate the data.\n",
        "\n",
        "**Note**: This [dataset](https://www.kaggle.com/uciml/pima-indians-diabetes-database) is from the National Institute of Diabetes and Digestive and Kidney Diseases. It contains the following columns:\n",
        "\n",
        "- `Pregnancies`: Number of times pregnant\n",
        "- `Glucose`: Plasma glucose concentration per 2 hours in an oral glucose tolerance test\n",
        "- `BloodPressure`: Diastolic blood pressure\n",
        "- `SkinThickness`: Triceps skinfold thickness\n",
        "- `Insulin`: 2-Hour serum insulin\n",
        "- `BMI`: Body mass index\n",
        "- `DiabetesPedigreeFunction`: Diabetes pedigree function\n",
        "- `Age`: Age (years)\n",
        "- `Outcome`: Class variable (0 or 1)\n",
        "\n",
        "Let's get started!"
      ]
    },
    {
      "cell_type": "markdown",
      "id": "6e1cc217",
      "metadata": {
        "id": "6e1cc217"
      },
      "source": [
        "## Initial Inspection"
      ]
    },
    {
      "cell_type": "markdown",
      "id": "76684c5b",
      "metadata": {
        "id": "76684c5b"
      },
      "source": [
        "1. First, familiarize yourself with the dataset [here](https://www.kaggle.com/uciml/pima-indians-diabetes-database).\n",
        "\n",
        "   Look at each of the nine columns in the documentation.\n",
        "   \n",
        "   What do you expect each data type to be?"
      ]
    },
    {
      "cell_type": "markdown",
      "id": "f7bdb023",
      "metadata": {
        "id": "f7bdb023"
      },
      "source": [
        "Expected data type for each column:\n",
        "\n",
        "- `Pregnancies`: \n",
        "- `Glucose`: \n",
        "- `BloodPressure`: \n",
        "- `SkinThickness`: \n",
        "- `Insulin`: \n",
        "- `BMI`: \n",
        "- `DiabetesPedigreeFunction`: \n",
        "- `Age`: \n",
        "- `Outcome`: "
      ]
    },
    {
      "cell_type": "markdown",
      "id": "fc54249b",
      "metadata": {
        "id": "fc54249b"
      },
      "source": [
        "2. Next, let's load in the diabetes data to start exploring.\n",
        "\n",
        "   Load the data in a variable called `diabetes_data` and print the first few rows.\n",
        "   \n",
        "   **Note**: The data is stored in a file called `diabetes.csv`."
      ]
    },
    {
      "cell_type": "code",
      "execution_count": 3,
      "id": "4839762f",
      "metadata": {
        "colab": {
          "base_uri": "https://localhost:8080/"
        },
        "id": "4839762f",
        "outputId": "26690446-8ea9-4efd-c9a3-2a9efcb42764"
      },
      "outputs": [
        {
          "output_type": "execute_result",
          "data": {
            "text/plain": [
              "PosixPath('drive/MyDrive/Rubanza/kaggle/models')"
            ]
          },
          "metadata": {},
          "execution_count": 3
        }
      ],
      "source": [
        "import pandas as pd\n",
        "import numpy as np\n",
        "from pathlib import Path\n",
        "\n",
        "# load in data\n",
        "path = Path('drive/MyDrive/Rubanza/kaggle/models')\n",
        "path"
      ]
    },
    {
      "cell_type": "code",
      "source": [
        "train_df = pd.read_csv(path/'diabetes.csv') "
      ],
      "metadata": {
        "id": "Nz97IhGr_ehz"
      },
      "id": "Nz97IhGr_ehz",
      "execution_count": 4,
      "outputs": []
    },
    {
      "cell_type": "code",
      "source": [
        "train_df.head()"
      ],
      "metadata": {
        "colab": {
          "base_uri": "https://localhost:8080/",
          "height": 206
        },
        "id": "Apk1815yAER0",
        "outputId": "c7e2a7b9-ebd0-49a5-811f-29a8a31c0467"
      },
      "id": "Apk1815yAER0",
      "execution_count": 8,
      "outputs": [
        {
          "output_type": "execute_result",
          "data": {
            "text/plain": [
              "   Pregnancies  Glucose  BloodPressure  SkinThickness  Insulin   BMI  \\\n",
              "0            6      148             72             35        0  33.6   \n",
              "1            1       85             66             29        0  26.6   \n",
              "2            8      183             64              0        0  23.3   \n",
              "3            1       89             66             23       94  28.1   \n",
              "4            0      137             40             35      168  43.1   \n",
              "\n",
              "   DiabetesPedigreeFunction  Age Outcome  \n",
              "0                     0.627   50       1  \n",
              "1                     0.351   31       0  \n",
              "2                     0.672   32       1  \n",
              "3                     0.167   21       0  \n",
              "4                     2.288   33       1  "
            ],
            "text/html": [
              "\n",
              "  <div id=\"df-9e285eac-4fb9-42d9-b0cf-366a3c212c3e\">\n",
              "    <div class=\"colab-df-container\">\n",
              "      <div>\n",
              "<style scoped>\n",
              "    .dataframe tbody tr th:only-of-type {\n",
              "        vertical-align: middle;\n",
              "    }\n",
              "\n",
              "    .dataframe tbody tr th {\n",
              "        vertical-align: top;\n",
              "    }\n",
              "\n",
              "    .dataframe thead th {\n",
              "        text-align: right;\n",
              "    }\n",
              "</style>\n",
              "<table border=\"1\" class=\"dataframe\">\n",
              "  <thead>\n",
              "    <tr style=\"text-align: right;\">\n",
              "      <th></th>\n",
              "      <th>Pregnancies</th>\n",
              "      <th>Glucose</th>\n",
              "      <th>BloodPressure</th>\n",
              "      <th>SkinThickness</th>\n",
              "      <th>Insulin</th>\n",
              "      <th>BMI</th>\n",
              "      <th>DiabetesPedigreeFunction</th>\n",
              "      <th>Age</th>\n",
              "      <th>Outcome</th>\n",
              "    </tr>\n",
              "  </thead>\n",
              "  <tbody>\n",
              "    <tr>\n",
              "      <th>0</th>\n",
              "      <td>6</td>\n",
              "      <td>148</td>\n",
              "      <td>72</td>\n",
              "      <td>35</td>\n",
              "      <td>0</td>\n",
              "      <td>33.6</td>\n",
              "      <td>0.627</td>\n",
              "      <td>50</td>\n",
              "      <td>1</td>\n",
              "    </tr>\n",
              "    <tr>\n",
              "      <th>1</th>\n",
              "      <td>1</td>\n",
              "      <td>85</td>\n",
              "      <td>66</td>\n",
              "      <td>29</td>\n",
              "      <td>0</td>\n",
              "      <td>26.6</td>\n",
              "      <td>0.351</td>\n",
              "      <td>31</td>\n",
              "      <td>0</td>\n",
              "    </tr>\n",
              "    <tr>\n",
              "      <th>2</th>\n",
              "      <td>8</td>\n",
              "      <td>183</td>\n",
              "      <td>64</td>\n",
              "      <td>0</td>\n",
              "      <td>0</td>\n",
              "      <td>23.3</td>\n",
              "      <td>0.672</td>\n",
              "      <td>32</td>\n",
              "      <td>1</td>\n",
              "    </tr>\n",
              "    <tr>\n",
              "      <th>3</th>\n",
              "      <td>1</td>\n",
              "      <td>89</td>\n",
              "      <td>66</td>\n",
              "      <td>23</td>\n",
              "      <td>94</td>\n",
              "      <td>28.1</td>\n",
              "      <td>0.167</td>\n",
              "      <td>21</td>\n",
              "      <td>0</td>\n",
              "    </tr>\n",
              "    <tr>\n",
              "      <th>4</th>\n",
              "      <td>0</td>\n",
              "      <td>137</td>\n",
              "      <td>40</td>\n",
              "      <td>35</td>\n",
              "      <td>168</td>\n",
              "      <td>43.1</td>\n",
              "      <td>2.288</td>\n",
              "      <td>33</td>\n",
              "      <td>1</td>\n",
              "    </tr>\n",
              "  </tbody>\n",
              "</table>\n",
              "</div>\n",
              "      <button class=\"colab-df-convert\" onclick=\"convertToInteractive('df-9e285eac-4fb9-42d9-b0cf-366a3c212c3e')\"\n",
              "              title=\"Convert this dataframe to an interactive table.\"\n",
              "              style=\"display:none;\">\n",
              "        \n",
              "  <svg xmlns=\"http://www.w3.org/2000/svg\" height=\"24px\"viewBox=\"0 0 24 24\"\n",
              "       width=\"24px\">\n",
              "    <path d=\"M0 0h24v24H0V0z\" fill=\"none\"/>\n",
              "    <path d=\"M18.56 5.44l.94 2.06.94-2.06 2.06-.94-2.06-.94-.94-2.06-.94 2.06-2.06.94zm-11 1L8.5 8.5l.94-2.06 2.06-.94-2.06-.94L8.5 2.5l-.94 2.06-2.06.94zm10 10l.94 2.06.94-2.06 2.06-.94-2.06-.94-.94-2.06-.94 2.06-2.06.94z\"/><path d=\"M17.41 7.96l-1.37-1.37c-.4-.4-.92-.59-1.43-.59-.52 0-1.04.2-1.43.59L10.3 9.45l-7.72 7.72c-.78.78-.78 2.05 0 2.83L4 21.41c.39.39.9.59 1.41.59.51 0 1.02-.2 1.41-.59l7.78-7.78 2.81-2.81c.8-.78.8-2.07 0-2.86zM5.41 20L4 18.59l7.72-7.72 1.47 1.35L5.41 20z\"/>\n",
              "  </svg>\n",
              "      </button>\n",
              "      \n",
              "  <style>\n",
              "    .colab-df-container {\n",
              "      display:flex;\n",
              "      flex-wrap:wrap;\n",
              "      gap: 12px;\n",
              "    }\n",
              "\n",
              "    .colab-df-convert {\n",
              "      background-color: #E8F0FE;\n",
              "      border: none;\n",
              "      border-radius: 50%;\n",
              "      cursor: pointer;\n",
              "      display: none;\n",
              "      fill: #1967D2;\n",
              "      height: 32px;\n",
              "      padding: 0 0 0 0;\n",
              "      width: 32px;\n",
              "    }\n",
              "\n",
              "    .colab-df-convert:hover {\n",
              "      background-color: #E2EBFA;\n",
              "      box-shadow: 0px 1px 2px rgba(60, 64, 67, 0.3), 0px 1px 3px 1px rgba(60, 64, 67, 0.15);\n",
              "      fill: #174EA6;\n",
              "    }\n",
              "\n",
              "    [theme=dark] .colab-df-convert {\n",
              "      background-color: #3B4455;\n",
              "      fill: #D2E3FC;\n",
              "    }\n",
              "\n",
              "    [theme=dark] .colab-df-convert:hover {\n",
              "      background-color: #434B5C;\n",
              "      box-shadow: 0px 1px 3px 1px rgba(0, 0, 0, 0.15);\n",
              "      filter: drop-shadow(0px 1px 2px rgba(0, 0, 0, 0.3));\n",
              "      fill: #FFFFFF;\n",
              "    }\n",
              "  </style>\n",
              "\n",
              "      <script>\n",
              "        const buttonEl =\n",
              "          document.querySelector('#df-9e285eac-4fb9-42d9-b0cf-366a3c212c3e button.colab-df-convert');\n",
              "        buttonEl.style.display =\n",
              "          google.colab.kernel.accessAllowed ? 'block' : 'none';\n",
              "\n",
              "        async function convertToInteractive(key) {\n",
              "          const element = document.querySelector('#df-9e285eac-4fb9-42d9-b0cf-366a3c212c3e');\n",
              "          const dataTable =\n",
              "            await google.colab.kernel.invokeFunction('convertToInteractive',\n",
              "                                                     [key], {});\n",
              "          if (!dataTable) return;\n",
              "\n",
              "          const docLinkHtml = 'Like what you see? Visit the ' +\n",
              "            '<a target=\"_blank\" href=https://colab.research.google.com/notebooks/data_table.ipynb>data table notebook</a>'\n",
              "            + ' to learn more about interactive tables.';\n",
              "          element.innerHTML = '';\n",
              "          dataTable['output_type'] = 'display_data';\n",
              "          await google.colab.output.renderOutput(dataTable, element);\n",
              "          const docLink = document.createElement('div');\n",
              "          docLink.innerHTML = docLinkHtml;\n",
              "          element.appendChild(docLink);\n",
              "        }\n",
              "      </script>\n",
              "    </div>\n",
              "  </div>\n",
              "  "
            ]
          },
          "metadata": {},
          "execution_count": 8
        }
      ]
    },
    {
      "cell_type": "code",
      "source": [
        "train_df.unique()"
      ],
      "metadata": {
        "colab": {
          "base_uri": "https://localhost:8080/",
          "height": 288
        },
        "id": "LEhzMknUBUel",
        "outputId": "f700fa6c-ddd6-4533-c6bd-9323fddb161b"
      },
      "id": "LEhzMknUBUel",
      "execution_count": 9,
      "outputs": [
        {
          "output_type": "error",
          "ename": "AttributeError",
          "evalue": "ignored",
          "traceback": [
            "\u001b[0;31m---------------------------------------------------------------------------\u001b[0m",
            "\u001b[0;31mAttributeError\u001b[0m                            Traceback (most recent call last)",
            "\u001b[0;32m<ipython-input-9-bf7907e0e4dc>\u001b[0m in \u001b[0;36m<module>\u001b[0;34m\u001b[0m\n\u001b[0;32m----> 1\u001b[0;31m \u001b[0mtrain_df\u001b[0m\u001b[0;34m.\u001b[0m\u001b[0munique\u001b[0m\u001b[0;34m(\u001b[0m\u001b[0;34m)\u001b[0m\u001b[0;34m\u001b[0m\u001b[0;34m\u001b[0m\u001b[0m\n\u001b[0m",
            "\u001b[0;32m/usr/local/lib/python3.7/dist-packages/pandas/core/generic.py\u001b[0m in \u001b[0;36m__getattr__\u001b[0;34m(self, name)\u001b[0m\n\u001b[1;32m   5485\u001b[0m         ):\n\u001b[1;32m   5486\u001b[0m             \u001b[0;32mreturn\u001b[0m \u001b[0mself\u001b[0m\u001b[0;34m[\u001b[0m\u001b[0mname\u001b[0m\u001b[0;34m]\u001b[0m\u001b[0;34m\u001b[0m\u001b[0;34m\u001b[0m\u001b[0m\n\u001b[0;32m-> 5487\u001b[0;31m         \u001b[0;32mreturn\u001b[0m \u001b[0mobject\u001b[0m\u001b[0;34m.\u001b[0m\u001b[0m__getattribute__\u001b[0m\u001b[0;34m(\u001b[0m\u001b[0mself\u001b[0m\u001b[0;34m,\u001b[0m \u001b[0mname\u001b[0m\u001b[0;34m)\u001b[0m\u001b[0;34m\u001b[0m\u001b[0;34m\u001b[0m\u001b[0m\n\u001b[0m\u001b[1;32m   5488\u001b[0m \u001b[0;34m\u001b[0m\u001b[0m\n\u001b[1;32m   5489\u001b[0m     \u001b[0;32mdef\u001b[0m \u001b[0m__setattr__\u001b[0m\u001b[0;34m(\u001b[0m\u001b[0mself\u001b[0m\u001b[0;34m,\u001b[0m \u001b[0mname\u001b[0m\u001b[0;34m:\u001b[0m \u001b[0mstr\u001b[0m\u001b[0;34m,\u001b[0m \u001b[0mvalue\u001b[0m\u001b[0;34m)\u001b[0m \u001b[0;34m->\u001b[0m \u001b[0;32mNone\u001b[0m\u001b[0;34m:\u001b[0m\u001b[0;34m\u001b[0m\u001b[0;34m\u001b[0m\u001b[0m\n",
            "\u001b[0;31mAttributeError\u001b[0m: 'DataFrame' object has no attribute 'unique'"
          ]
        }
      ]
    },
    {
      "cell_type": "code",
      "source": [
        "train_df.info()"
      ],
      "metadata": {
        "colab": {
          "base_uri": "https://localhost:8080/"
        },
        "id": "eCaMfurV_slj",
        "outputId": "32fcea88-8ec0-4365-dc67-85fb0dec6be8"
      },
      "id": "eCaMfurV_slj",
      "execution_count": 7,
      "outputs": [
        {
          "output_type": "stream",
          "name": "stdout",
          "text": [
            "<class 'pandas.core.frame.DataFrame'>\n",
            "RangeIndex: 768 entries, 0 to 767\n",
            "Data columns (total 9 columns):\n",
            " #   Column                    Non-Null Count  Dtype  \n",
            "---  ------                    --------------  -----  \n",
            " 0   Pregnancies               768 non-null    int64  \n",
            " 1   Glucose                   768 non-null    int64  \n",
            " 2   BloodPressure             768 non-null    int64  \n",
            " 3   SkinThickness             768 non-null    int64  \n",
            " 4   Insulin                   768 non-null    int64  \n",
            " 5   BMI                       768 non-null    float64\n",
            " 6   DiabetesPedigreeFunction  768 non-null    float64\n",
            " 7   Age                       768 non-null    int64  \n",
            " 8   Outcome                   768 non-null    object \n",
            "dtypes: float64(2), int64(6), object(1)\n",
            "memory usage: 54.1+ KB\n"
          ]
        }
      ]
    },
    {
      "cell_type": "code",
      "source": [
        "from google.colab import drive\n",
        "drive.mount('/content/drive')"
      ],
      "metadata": {
        "colab": {
          "base_uri": "https://localhost:8080/"
        },
        "id": "io95yQ3l-u16",
        "outputId": "04a94d20-5410-4279-83d4-4f0e6377f11c"
      },
      "id": "io95yQ3l-u16",
      "execution_count": 1,
      "outputs": [
        {
          "output_type": "stream",
          "name": "stdout",
          "text": [
            "Mounted at /content/drive\n"
          ]
        }
      ]
    },
    {
      "cell_type": "markdown",
      "id": "90d35b44",
      "metadata": {
        "id": "90d35b44"
      },
      "source": [
        "3. How many columns (features) does the data contain?"
      ]
    },
    {
      "cell_type": "code",
      "execution_count": null,
      "id": "c7fc98c4",
      "metadata": {
        "id": "c7fc98c4"
      },
      "outputs": [],
      "source": [
        "# print number of columns\n"
      ]
    },
    {
      "cell_type": "markdown",
      "id": "35d2bf80",
      "metadata": {
        "id": "35d2bf80"
      },
      "source": [
        "4. How many rows (observations) does the data contain?"
      ]
    },
    {
      "cell_type": "code",
      "execution_count": null,
      "id": "190b7a90",
      "metadata": {
        "id": "190b7a90"
      },
      "outputs": [],
      "source": [
        "# print number of rows\n"
      ]
    },
    {
      "cell_type": "markdown",
      "id": "65d8ddf0",
      "metadata": {
        "id": "65d8ddf0"
      },
      "source": [
        "## Further Inspection"
      ]
    },
    {
      "cell_type": "markdown",
      "id": "04e3c6ef",
      "metadata": {
        "id": "04e3c6ef"
      },
      "source": [
        "5. Let's inspect `diabetes_data` further.\n",
        "\n",
        "   Do any of the columns in the data contain null (missing) values?"
      ]
    },
    {
      "cell_type": "code",
      "execution_count": null,
      "id": "d0fa3860",
      "metadata": {
        "id": "d0fa3860"
      },
      "outputs": [],
      "source": [
        "# find whether columns contain null values\n"
      ]
    },
    {
      "cell_type": "markdown",
      "id": "8ee62c01",
      "metadata": {
        "id": "8ee62c01"
      },
      "source": [
        "6. If you answered no to the question above, not so fast!\n",
        "\n",
        "   While it's technically true that none of the columns contain null values, that doesn't necessarily mean that the data isn't missing any values.\n",
        "   \n",
        "   When exploring data, you should always question your assumptions and try to dig deeper.\n",
        "   \n",
        "   To investigate further, calculate summary statistics on `diabetes_data` using the `.describe()` method."
      ]
    },
    {
      "cell_type": "code",
      "execution_count": null,
      "id": "451efb00",
      "metadata": {
        "id": "451efb00"
      },
      "outputs": [],
      "source": [
        "# perform summary statistics\n"
      ]
    },
    {
      "cell_type": "markdown",
      "id": "ad900272",
      "metadata": {
        "id": "ad900272"
      },
      "source": [
        "7. Looking at the summary statistics, do you notice anything odd about the following columns?\n",
        "\n",
        "   - `Glucose`\n",
        "   - `BloodPressure`\n",
        "   - `SkinThickness`\n",
        "   - `Insulin`\n",
        "   - `BMI`"
      ]
    },
    {
      "cell_type": "markdown",
      "id": "7131eacb",
      "metadata": {
        "id": "7131eacb"
      },
      "source": [
        "**Your response to question 7**:"
      ]
    },
    {
      "cell_type": "markdown",
      "id": "3ed15b79",
      "metadata": {
        "id": "3ed15b79"
      },
      "source": [
        "8. Do you spot any other outliers in the data?"
      ]
    },
    {
      "cell_type": "markdown",
      "id": "8a708e88",
      "metadata": {
        "id": "8a708e88"
      },
      "source": [
        "**Your response to question 8**:"
      ]
    },
    {
      "cell_type": "markdown",
      "id": "4b5bcf47",
      "metadata": {
        "id": "4b5bcf47"
      },
      "source": [
        "9. Let's see if we can get a more accurate view of the missing values in the data.\n",
        "\n",
        "   Use the following code to replace the instances of `0` with `NaN` in the five columns mentioned:\n",
        "   \n",
        "   ```py\n",
        "   diabetes_data[['Glucose', 'BloodPressure', 'SkinThickness', 'Insulin', 'BMI']] = diabetes_data[['Glucose', 'BloodPressure', 'SkinThickness', 'Insulin', 'BMI']].replace(0, np.NaN)\n",
        "   ```"
      ]
    },
    {
      "cell_type": "code",
      "execution_count": null,
      "id": "623def40",
      "metadata": {
        "id": "623def40"
      },
      "outputs": [],
      "source": [
        "# replace instances of 0 with NaN\n"
      ]
    },
    {
      "cell_type": "markdown",
      "id": "ad9fc71d",
      "metadata": {
        "id": "ad9fc71d"
      },
      "source": [
        "10. Next, check for missing (null) values in all of the columns just like you did in Step 5.\n",
        "\n",
        "    Now how many missing values are there?"
      ]
    },
    {
      "cell_type": "code",
      "execution_count": null,
      "id": "1e4d2845",
      "metadata": {
        "id": "1e4d2845"
      },
      "outputs": [],
      "source": [
        "# find whether columns contain null values after replacements are made\n"
      ]
    },
    {
      "cell_type": "markdown",
      "id": "4265329e",
      "metadata": {
        "id": "4265329e"
      },
      "source": [
        "11. Let's take a closer look at these rows to get a better idea of _why_ some data might be missing.\n",
        "\n",
        "    Print out all the rows that contain missing (null) values."
      ]
    },
    {
      "cell_type": "code",
      "execution_count": null,
      "id": "91f5b1fe",
      "metadata": {
        "id": "91f5b1fe"
      },
      "outputs": [],
      "source": [
        "# print rows with missing values\n"
      ]
    },
    {
      "cell_type": "markdown",
      "id": "e3f06a2e",
      "metadata": {
        "id": "e3f06a2e"
      },
      "source": [
        "12. Go through the rows with missing data. Do you notice any patterns or overlaps between the missing data?"
      ]
    },
    {
      "cell_type": "markdown",
      "id": "cb42cfe6",
      "metadata": {
        "id": "cb42cfe6"
      },
      "source": [
        "**Your response to question 12**:"
      ]
    },
    {
      "cell_type": "markdown",
      "id": "5b597d09",
      "metadata": {
        "id": "5b597d09"
      },
      "source": [
        "13. Next, take a closer look at the data types of each column in `diabetes_data`.\n",
        "\n",
        "    Does the result match what you would expect?"
      ]
    },
    {
      "cell_type": "code",
      "execution_count": null,
      "id": "5855aa09",
      "metadata": {
        "id": "5855aa09"
      },
      "outputs": [],
      "source": [
        "# print data types using .info() method\n"
      ]
    },
    {
      "cell_type": "markdown",
      "id": "c61b8b02",
      "metadata": {
        "id": "c61b8b02"
      },
      "source": [
        "14. To figure out why the `Outcome` column is of type `object` (string) instead of type `int64`, print out the unique values in the `Outcome` column."
      ]
    },
    {
      "cell_type": "code",
      "execution_count": null,
      "id": "ffedd117",
      "metadata": {
        "id": "ffedd117"
      },
      "outputs": [],
      "source": [
        "# print unique values of Outcome column\n"
      ]
    },
    {
      "cell_type": "markdown",
      "id": "42b3bcbe",
      "metadata": {
        "id": "42b3bcbe"
      },
      "source": [
        "15. How might you resolve this issue?"
      ]
    },
    {
      "cell_type": "markdown",
      "id": "7495f5b6",
      "metadata": {
        "id": "7495f5b6"
      },
      "source": [
        "**Your response to question 15**:"
      ]
    },
    {
      "cell_type": "markdown",
      "id": "9c5fbcbe",
      "metadata": {
        "id": "9c5fbcbe"
      },
      "source": [
        "## Next Steps:"
      ]
    },
    {
      "cell_type": "markdown",
      "id": "22a324d0",
      "metadata": {
        "id": "22a324d0"
      },
      "source": [
        "16. Congratulations! In this project, you saw how EDA can help with the initial data inspection and cleaning process. This is an important step as it helps to keep your datasets clean and reliable.\n",
        "\n",
        "    Here are some ways you might extend this project if you'd like:\n",
        "    - Use `.value_counts()` to more fully explore the values in each column.\n",
        "    - Investigate other outliers in the data that may be easily overlooked.\n",
        "    - Instead of changing the `0` values in the five columns to `NaN`, try replacing the values with the median or mean of each column."
      ]
    },
    {
      "cell_type": "code",
      "execution_count": null,
      "id": "b7f440b6",
      "metadata": {
        "id": "b7f440b6"
      },
      "outputs": [],
      "source": []
    }
  ],
  "metadata": {
    "kernelspec": {
      "display_name": "Python 3 (ipykernel)",
      "language": "python",
      "name": "python3"
    },
    "language_info": {
      "codemirror_mode": {
        "name": "ipython",
        "version": 3
      },
      "file_extension": ".py",
      "mimetype": "text/x-python",
      "name": "python",
      "nbconvert_exporter": "python",
      "pygments_lexer": "ipython3",
      "version": "3.7.11"
    },
    "colab": {
      "provenance": [],
      "include_colab_link": true
    }
  },
  "nbformat": 4,
  "nbformat_minor": 5
}